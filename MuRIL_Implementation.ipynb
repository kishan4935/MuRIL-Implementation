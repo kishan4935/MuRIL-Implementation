{
  "nbformat": 4,
  "nbformat_minor": 0,
  "metadata": {
    "colab": {
      "provenance": [],
      "toc_visible": true,
      "authorship_tag": "ABX9TyOIxG3IqCkuMtHe236Z/tWX",
      "include_colab_link": true
    },
    "kernelspec": {
      "name": "python3",
      "display_name": "Python 3"
    },
    "language_info": {
      "name": "python"
    }
  },
  "cells": [
    {
      "cell_type": "markdown",
      "metadata": {
        "id": "view-in-github",
        "colab_type": "text"
      },
      "source": [
        "<a href=\"https://colab.research.google.com/github/kishan4935/MuRIL-Implementation/blob/main/MuRIL_Implementation.ipynb\" target=\"_parent\"><img src=\"https://colab.research.google.com/assets/colab-badge.svg\" alt=\"Open In Colab\"/></a>"
      ]
    },
    {
      "cell_type": "markdown",
      "source": [
        "#Dependencies\n"
      ],
      "metadata": {
        "id": "zjqFLEV9sHMX"
      }
    },
    {
      "cell_type": "code",
      "execution_count": null,
      "metadata": {
        "id": "JLLSJlAGlPGi"
      },
      "outputs": [],
      "source": [
        "!pip install bert-for-tf2\n",
        "!pip install tensorflow-text\n"
      ]
    },
    {
      "cell_type": "markdown",
      "source": [
        "#Import Drive"
      ],
      "metadata": {
        "id": "vI7OU4NgsTc6"
      }
    },
    {
      "cell_type": "code",
      "source": [
        "max_seq_length = 128\n",
        "muril_model, muril_layer = get_model(\n",
        "    model_url=\"https://tfhub.dev/google/MuRIL/1\", max_seq_length=max_seq_length)"
      ],
      "metadata": {
        "colab": {
          "base_uri": "https://localhost:8080/"
        },
        "id": "tAgDkk-Cl7Jj",
        "outputId": "b60418f8-3ed3-4a60-9b19-77529ef370a0"
      },
      "execution_count": null,
      "outputs": [
        {
          "output_type": "stream",
          "name": "stderr",
          "text": [
            "WARNING:tensorflow:Please fix your imports. Module tensorflow.python.training.tracking.data_structures has been moved to tensorflow.python.trackable.data_structures. The old module will be deleted in version 2.11.\n"
          ]
        }
      ]
    },
    {
      "cell_type": "markdown",
      "source": [
        "#Import Lib"
      ],
      "metadata": {
        "id": "vaVt_w9Isaxg"
      }
    },
    {
      "cell_type": "code",
      "source": [
        "import tensorflow as tf\n",
        "import tensorflow_datasets as tfds\n",
        "import tensorflow_hub as hub\n",
        "import tensorflow_text as text\n",
        "from bert import bert_tokenization\n",
        "import numpy as np\n",
        "from scipy.spatial import distance"
      ],
      "metadata": {
        "id": "h00lCMPalwdj"
      },
      "execution_count": null,
      "outputs": []
    },
    {
      "cell_type": "markdown",
      "source": [
        "#MuRIL MODEL Implementation"
      ],
      "metadata": {
        "id": "miHC4HwNsg_R"
      }
    },
    {
      "cell_type": "code",
      "source": [
        "def get_model(model_url, max_seq_length):\n",
        "  inputs = dict(\n",
        "    input_word_ids=tf.keras.layers.Input(shape=(max_seq_length,), dtype=tf.int32),\n",
        "    input_mask=tf.keras.layers.Input(shape=(max_seq_length,), dtype=tf.int32),\n",
        "    input_type_ids=tf.keras.layers.Input(shape=(max_seq_length,), dtype=tf.int32),\n",
        "    )\n",
        "\n",
        "  muril_layer = hub.KerasLayer(model_url, trainable=True)\n",
        "  outputs = muril_layer(inputs)\n",
        "\n",
        "  assert 'sequence_output' in outputs\n",
        "  assert 'pooled_output' in outputs\n",
        "  assert 'encoder_outputs' in outputs\n",
        "  assert 'default' in outputs\n",
        "  return tf.keras.Model(inputs=inputs,outputs=outputs[\"pooled_output\"]), muril_layer"
      ],
      "metadata": {
        "id": "SfryhtBel048"
      },
      "execution_count": null,
      "outputs": []
    },
    {
      "cell_type": "code",
      "source": [
        "vocab_file = muril_layer.resolved_object.vocab_file.asset_path.numpy()\n",
        "do_lower_case = muril_layer.resolved_object.do_lower_case.numpy()\n",
        "tokenizer = bert_tokenization.FullTokenizer(vocab_file, do_lower_case)"
      ],
      "metadata": {
        "id": "uq43ACJ9mA76"
      },
      "execution_count": null,
      "outputs": []
    },
    {
      "cell_type": "code",
      "source": [
        "def create_input(input_strings, tokenizer, max_seq_length):\n",
        "  input_ids_all, input_mask_all, input_type_ids_all = [], [], []\n",
        "  for input_string in input_strings:\n",
        "    input_tokens = [\"[CLS]\"] + tokenizer.tokenize(input_string) + [\"[SEP]\"]\n",
        "    input_ids = tokenizer.convert_tokens_to_ids(input_tokens)\n",
        "    sequence_length = min(len(input_ids), max_seq_length)\n",
        "    \n",
        "    if len(input_ids) >= max_seq_length:\n",
        "      input_ids = input_ids[:max_seq_length]\n",
        "    else:\n",
        "      input_ids = input_ids + [0] * (max_seq_length - len(input_ids))\n",
        "\n",
        "    input_mask = [1] * sequence_length + [0] * (max_seq_length - sequence_length)\n",
        "\n",
        "    input_ids_all.append(input_ids)\n",
        "    input_mask_all.append(input_mask)\n",
        "    input_type_ids_all.append([0] * max_seq_length)\n",
        "  \n",
        "  return np.array(input_ids_all), np.array(input_mask_all), np.array(input_type_ids_all)"
      ],
      "metadata": {
        "id": "8Pl8pkddmHTV"
      },
      "execution_count": null,
      "outputs": []
    },
    {
      "cell_type": "code",
      "source": [
        "def encode(input_text):\n",
        "  input_ids, input_mask, input_type_ids = create_input(input_text, \n",
        "                                                       tokenizer, \n",
        "                                                       max_seq_length)\n",
        "  inputs = dict(\n",
        "      input_word_ids=input_ids,\n",
        "      input_mask=input_mask,\n",
        "      input_type_ids=input_type_ids,\n",
        "  )\n",
        "  return muril_model(inputs)"
      ],
      "metadata": {
        "id": "MGuveDXLmMi4"
      },
      "execution_count": null,
      "outputs": []
    },
    {
      "cell_type": "code",
      "source": [
        "sentences = [\"दोस्त\", \"मित्र\", \"शत्रु\"]"
      ],
      "metadata": {
        "id": "niEpimzUmR1B"
      },
      "execution_count": null,
      "outputs": []
    },
    {
      "cell_type": "code",
      "source": [
        "embeddings = encode(sentences)"
      ],
      "metadata": {
        "id": "yp39ZJhcmWrE"
      },
      "execution_count": null,
      "outputs": []
    },
    {
      "cell_type": "code",
      "source": [
        "dst_1 = distance.euclidean(np.array(embeddings[0]), \n",
        "                           np.array(embeddings[1]))\n",
        "print(\"Distance between {} & {} is {}\".format(sentences[0],\n",
        "                                                sentences[1],\n",
        "                                                dst_1))"
      ],
      "metadata": {
        "colab": {
          "base_uri": "https://localhost:8080/"
        },
        "id": "J0V9t8Inma67",
        "outputId": "cb314600-8369-42ff-8bd5-90591ee27227"
      },
      "execution_count": null,
      "outputs": [
        {
          "output_type": "stream",
          "name": "stdout",
          "text": [
            "Distance between दोस्त & मित्र is 0.009007949382066727\n"
          ]
        }
      ]
    },
    {
      "cell_type": "code",
      "source": [
        "dst_2 = distance.euclidean(np.array(embeddings[1]), \n",
        "                           np.array(embeddings[2]))\n",
        "print(\"Distance between {} & {} is {}\".format(sentences[1],\n",
        "                                                sentences[2],\n",
        "                                                dst_2))"
      ],
      "metadata": {
        "colab": {
          "base_uri": "https://localhost:8080/"
        },
        "id": "6Q1hpenDmss6",
        "outputId": "4c11ea56-ba07-4cfc-8c95-9610091ae427"
      },
      "execution_count": null,
      "outputs": [
        {
          "output_type": "stream",
          "name": "stdout",
          "text": [
            "Distance between मित्र & शत्रु is 0.011569392867386341\n"
          ]
        }
      ]
    },
    {
      "cell_type": "code",
      "source": [
        "dst_2 > dst_1"
      ],
      "metadata": {
        "colab": {
          "base_uri": "https://localhost:8080/"
        },
        "id": "hSD-kh-VmgZP",
        "outputId": "dffb220f-5a3e-4fff-a6ef-4cdaec892585"
      },
      "execution_count": null,
      "outputs": [
        {
          "output_type": "execute_result",
          "data": {
            "text/plain": [
              "True"
            ]
          },
          "metadata": {},
          "execution_count": 13
        }
      ]
    },
    {
      "cell_type": "code",
      "source": [],
      "metadata": {
        "id": "Dw_w9dxcmzF3"
      },
      "execution_count": null,
      "outputs": []
    },
    {
      "cell_type": "code",
      "source": [],
      "metadata": {
        "id": "eNbhDWYJmzmA"
      },
      "execution_count": null,
      "outputs": []
    }
  ]
}